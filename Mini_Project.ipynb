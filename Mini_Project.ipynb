{
  "cells": [
    {
      "cell_type": "markdown",
      "metadata": {
        "id": "Gbj-WawBdCro"
      },
      "source": [
        "# **Mobile Price Classification**\n",
        "\n",
        "## **## Name: R B Ch S Tarun**\n"
      ]
    },
    {
      "cell_type": "markdown",
      "metadata": {
        "id": "Of8I0-_If23s"
      },
      "source": [
        "**Target: Identifying the Price Of the mobiles from the given specifications.**\n",
        "\n",
        "\n"
      ]
    },
    {
      "cell_type": "markdown",
      "metadata": {
        "id": "BsYSQ1i018RG"
      },
      "source": [
        "## **USE CASES:**\n",
        "*   This kind of prediction will help companies estimate price of mobiles to give tough competion to other mobile manufacturer\n",
        "*   it will be usefull for Consumers to verify that they are paying best price for a mobile.\n",
        "\n"
      ]
    },
    {
      "cell_type": "markdown",
      "metadata": {
        "id": "dbceIHvrgW-x"
      },
      "source": [
        "**Importing Packages And Dataset**"
      ]
    },
    {
      "cell_type": "code",
      "execution_count": null,
      "metadata": {
        "id": "rFRK4bpmbeJc"
      },
      "outputs": [],
      "source": [
        "\n",
        "import pandas as pd\n",
        "import numpy as np\n",
        "\n",
        "import seaborn as ns\n",
        "import matplotlib.pyplot as plt\n",
        "%matplotlib inline\n",
        "\n",
        "#importing packages for modeling\n",
        "from sklearn.linear_model import LogisticRegression\n",
        "from sklearn.svm import SVC\n",
        "from sklearn.ensemble import RandomForestClassifier\n",
        "from sklearn.neural_network import MLPClassifier\n",
        "from sklearn.tree import DecisionTreeClassifier\n",
        "from sklearn import metrics\n",
        "from sklearn.ensemble import RandomForestClassifier\n",
        "from sklearn.naive_bayes import GaussianNB\n",
        "from sklearn.metrics import confusion_matrix ,classification_report,precision_score, recall_score ,f1_score, roc_auc_score \n",
        "from sklearn.model_selection import train_test_split\n",
        "from sklearn.metrics import confusion_matrix\n",
        "from sklearn.metrics import precision_recall_curve"
      ]
    },
    {
      "cell_type": "code",
      "execution_count": null,
      "metadata": {
        "colab": {
          "base_uri": "https://localhost:8080/"
        },
        "id": "TecgbJq7hF33",
        "outputId": "e0779fe0-c8dc-4a3e-acae-7a130f579754"
      },
      "outputs": [
        {
          "name": "stdout",
          "output_type": "stream",
          "text": [
            "Mounted at /content/gdrive\n"
          ]
        }
      ],
      "source": [
        "# Mounting google drive\n",
        "\n",
        "from google.colab import drive\n",
        "drive.mount('/content/gdrive',force_remount = True)"
      ]
    },
    {
      "cell_type": "code",
      "execution_count": null,
      "metadata": {
        "colab": {
          "base_uri": "https://localhost:8080/",
          "height": 223
        },
        "id": "-OY8OoHZg9OF",
        "outputId": "30c18353-bca7-4c28-fd92-89a7b34970d0"
      },
      "outputs": [
        {
          "data": {
            "text/html": [
              "<div>\n",
              "<style scoped>\n",
              "    .dataframe tbody tr th:only-of-type {\n",
              "        vertical-align: middle;\n",
              "    }\n",
              "\n",
              "    .dataframe tbody tr th {\n",
              "        vertical-align: top;\n",
              "    }\n",
              "\n",
              "    .dataframe thead th {\n",
              "        text-align: right;\n",
              "    }\n",
              "</style>\n",
              "<table border=\"1\" class=\"dataframe\">\n",
              "  <thead>\n",
              "    <tr style=\"text-align: right;\">\n",
              "      <th></th>\n",
              "      <th>battery_power</th>\n",
              "      <th>blue</th>\n",
              "      <th>clock_speed</th>\n",
              "      <th>dual_sim</th>\n",
              "      <th>fc</th>\n",
              "      <th>four_g</th>\n",
              "      <th>int_memory</th>\n",
              "      <th>m_dep</th>\n",
              "      <th>mobile_wt</th>\n",
              "      <th>n_cores</th>\n",
              "      <th>pc</th>\n",
              "      <th>px_height</th>\n",
              "      <th>px_width</th>\n",
              "      <th>ram</th>\n",
              "      <th>sc_h</th>\n",
              "      <th>sc_w</th>\n",
              "      <th>talk_time</th>\n",
              "      <th>three_g</th>\n",
              "      <th>touch_screen</th>\n",
              "      <th>wifi</th>\n",
              "      <th>price_range</th>\n",
              "    </tr>\n",
              "  </thead>\n",
              "  <tbody>\n",
              "    <tr>\n",
              "      <th>1995</th>\n",
              "      <td>794</td>\n",
              "      <td>1</td>\n",
              "      <td>0.5</td>\n",
              "      <td>1</td>\n",
              "      <td>0</td>\n",
              "      <td>1</td>\n",
              "      <td>2</td>\n",
              "      <td>0.8</td>\n",
              "      <td>106</td>\n",
              "      <td>6</td>\n",
              "      <td>14</td>\n",
              "      <td>1222</td>\n",
              "      <td>1890</td>\n",
              "      <td>668</td>\n",
              "      <td>13</td>\n",
              "      <td>4</td>\n",
              "      <td>19</td>\n",
              "      <td>1</td>\n",
              "      <td>1</td>\n",
              "      <td>0</td>\n",
              "      <td>0</td>\n",
              "    </tr>\n",
              "    <tr>\n",
              "      <th>1996</th>\n",
              "      <td>1965</td>\n",
              "      <td>1</td>\n",
              "      <td>2.6</td>\n",
              "      <td>1</td>\n",
              "      <td>0</td>\n",
              "      <td>0</td>\n",
              "      <td>39</td>\n",
              "      <td>0.2</td>\n",
              "      <td>187</td>\n",
              "      <td>4</td>\n",
              "      <td>3</td>\n",
              "      <td>915</td>\n",
              "      <td>1965</td>\n",
              "      <td>2032</td>\n",
              "      <td>11</td>\n",
              "      <td>10</td>\n",
              "      <td>16</td>\n",
              "      <td>1</td>\n",
              "      <td>1</td>\n",
              "      <td>1</td>\n",
              "      <td>2</td>\n",
              "    </tr>\n",
              "    <tr>\n",
              "      <th>1997</th>\n",
              "      <td>1911</td>\n",
              "      <td>0</td>\n",
              "      <td>0.9</td>\n",
              "      <td>1</td>\n",
              "      <td>1</td>\n",
              "      <td>1</td>\n",
              "      <td>36</td>\n",
              "      <td>0.7</td>\n",
              "      <td>108</td>\n",
              "      <td>8</td>\n",
              "      <td>3</td>\n",
              "      <td>868</td>\n",
              "      <td>1632</td>\n",
              "      <td>3057</td>\n",
              "      <td>9</td>\n",
              "      <td>1</td>\n",
              "      <td>5</td>\n",
              "      <td>1</td>\n",
              "      <td>1</td>\n",
              "      <td>0</td>\n",
              "      <td>3</td>\n",
              "    </tr>\n",
              "    <tr>\n",
              "      <th>1998</th>\n",
              "      <td>1512</td>\n",
              "      <td>0</td>\n",
              "      <td>0.9</td>\n",
              "      <td>0</td>\n",
              "      <td>4</td>\n",
              "      <td>1</td>\n",
              "      <td>46</td>\n",
              "      <td>0.1</td>\n",
              "      <td>145</td>\n",
              "      <td>5</td>\n",
              "      <td>5</td>\n",
              "      <td>336</td>\n",
              "      <td>670</td>\n",
              "      <td>869</td>\n",
              "      <td>18</td>\n",
              "      <td>10</td>\n",
              "      <td>19</td>\n",
              "      <td>1</td>\n",
              "      <td>1</td>\n",
              "      <td>1</td>\n",
              "      <td>0</td>\n",
              "    </tr>\n",
              "    <tr>\n",
              "      <th>1999</th>\n",
              "      <td>510</td>\n",
              "      <td>1</td>\n",
              "      <td>2.0</td>\n",
              "      <td>1</td>\n",
              "      <td>5</td>\n",
              "      <td>1</td>\n",
              "      <td>45</td>\n",
              "      <td>0.9</td>\n",
              "      <td>168</td>\n",
              "      <td>6</td>\n",
              "      <td>16</td>\n",
              "      <td>483</td>\n",
              "      <td>754</td>\n",
              "      <td>3919</td>\n",
              "      <td>19</td>\n",
              "      <td>4</td>\n",
              "      <td>2</td>\n",
              "      <td>1</td>\n",
              "      <td>1</td>\n",
              "      <td>1</td>\n",
              "      <td>3</td>\n",
              "    </tr>\n",
              "  </tbody>\n",
              "</table>\n",
              "</div>"
            ],
            "text/plain": [
              "      battery_power  blue  clock_speed  ...  touch_screen  wifi  price_range\n",
              "1995            794     1          0.5  ...             1     0            0\n",
              "1996           1965     1          2.6  ...             1     1            2\n",
              "1997           1911     0          0.9  ...             1     0            3\n",
              "1998           1512     0          0.9  ...             1     1            0\n",
              "1999            510     1          2.0  ...             1     1            3\n",
              "\n",
              "[5 rows x 21 columns]"
            ]
          },
          "execution_count": 110,
          "metadata": {},
          "output_type": "execute_result"
        }
      ],
      "source": [
        "data = pd.read_csv(\"/content/gdrive/MyDrive/ML_Lab/Mobilestrain.csv\")\n",
        "data.tail()"
      ]
    },
    {
      "cell_type": "markdown",
      "metadata": {
        "id": "Mm8dTOO17vwL"
      },
      "source": [
        "## **Analyzing the Data**"
      ]
    },
    {
      "cell_type": "code",
      "execution_count": null,
      "metadata": {
        "colab": {
          "base_uri": "https://localhost:8080/"
        },
        "id": "bX8Obr-finIP",
        "outputId": "410f4489-3797-4016-db2f-38863ee1a819"
      },
      "outputs": [
        {
          "name": "stdout",
          "output_type": "stream",
          "text": [
            "<class 'pandas.core.frame.DataFrame'>\n",
            "RangeIndex: 2000 entries, 0 to 1999\n",
            "Data columns (total 21 columns):\n",
            " #   Column         Non-Null Count  Dtype  \n",
            "---  ------         --------------  -----  \n",
            " 0   battery_power  2000 non-null   int64  \n",
            " 1   blue           2000 non-null   int64  \n",
            " 2   clock_speed    2000 non-null   float64\n",
            " 3   dual_sim       2000 non-null   int64  \n",
            " 4   fc             2000 non-null   int64  \n",
            " 5   four_g         2000 non-null   int64  \n",
            " 6   int_memory     2000 non-null   int64  \n",
            " 7   m_dep          2000 non-null   float64\n",
            " 8   mobile_wt      2000 non-null   int64  \n",
            " 9   n_cores        2000 non-null   int64  \n",
            " 10  pc             2000 non-null   int64  \n",
            " 11  px_height      2000 non-null   int64  \n",
            " 12  px_width       2000 non-null   int64  \n",
            " 13  ram            2000 non-null   int64  \n",
            " 14  sc_h           2000 non-null   int64  \n",
            " 15  sc_w           2000 non-null   int64  \n",
            " 16  talk_time      2000 non-null   int64  \n",
            " 17  three_g        2000 non-null   int64  \n",
            " 18  touch_screen   2000 non-null   int64  \n",
            " 19  wifi           2000 non-null   int64  \n",
            " 20  price_range    2000 non-null   int64  \n",
            "dtypes: float64(2), int64(19)\n",
            "memory usage: 328.2 KB\n"
          ]
        }
      ],
      "source": [
        "data.info()"
      ]
    },
    {
      "cell_type": "code",
      "execution_count": null,
      "metadata": {
        "colab": {
          "base_uri": "https://localhost:8080/"
        },
        "id": "f2rFu5Kpi8eO",
        "outputId": "843ffc32-a02d-4a28-93de-9998958383d8"
      },
      "outputs": [
        {
          "data": {
            "text/plain": [
              "battery_power    0\n",
              "blue             0\n",
              "clock_speed      0\n",
              "dual_sim         0\n",
              "fc               0\n",
              "four_g           0\n",
              "int_memory       0\n",
              "m_dep            0\n",
              "mobile_wt        0\n",
              "n_cores          0\n",
              "pc               0\n",
              "px_height        0\n",
              "px_width         0\n",
              "ram              0\n",
              "sc_h             0\n",
              "sc_w             0\n",
              "talk_time        0\n",
              "three_g          0\n",
              "touch_screen     0\n",
              "wifi             0\n",
              "price_range      0\n",
              "dtype: int64"
            ]
          },
          "execution_count": 112,
          "metadata": {},
          "output_type": "execute_result"
        }
      ],
      "source": [
        "# Checking weather dataset having null values\n",
        "data.isnull().sum()"
      ]
    },
    {
      "cell_type": "code",
      "execution_count": null,
      "metadata": {
        "id": "GqkE-G_EjSuQ"
      },
      "outputs": [],
      "source": [
        "# talk time is not needed for classification\n",
        "\n",
        "data = data.drop(\"talk_time\",axis =1)"
      ]
    },
    {
      "cell_type": "code",
      "execution_count": null,
      "metadata": {
        "colab": {
          "base_uri": "https://localhost:8080/",
          "height": 298
        },
        "id": "gdzI7JsTm4cq",
        "outputId": "83020a79-0b68-4ffb-a49f-4e43e69695dd"
      },
      "outputs": [
        {
          "data": {
            "text/plain": [
              "<matplotlib.axes._subplots.AxesSubplot at 0x7fd0c05e5ad0>"
            ]
          },
          "execution_count": 114,
          "metadata": {},
          "output_type": "execute_result"
        },
        {
          "data": {
            "image/png": "[encoded data removed]",
            "text/plain": [
              "<Figure size 432x288 with 1 Axes>"
            ]
          },
          "metadata": {
            "needs_background": "light"
          },
          "output_type": "display_data"
        }
      ],
      "source": [
        "# Checking weather the data is balanced or unbalenced\n",
        "\n",
        "import seaborn as sns\n",
        "sns.countplot(x=\"price_range\", data=data)"
      ]
    },
    {
      "cell_type": "code",
      "execution_count": null,
      "metadata": {
        "colab": {
          "base_uri": "https://localhost:8080/"
        },
        "id": "klzHv3VgmCc_",
        "outputId": "4c4cef2d-740f-4d1f-cf60-c840b43240a5"
      },
      "outputs": [
        {
          "data": {
            "text/plain": [
              "array([1, 2, 3, 0])"
            ]
          },
          "execution_count": 115,
          "metadata": {},
          "output_type": "execute_result"
        }
      ],
      "source": [
        "data.price_range.unique()"
      ]
    },
    {
      "cell_type": "code",
      "execution_count": null,
      "metadata": {
        "colab": {
          "base_uri": "https://localhost:8080/",
          "height": 349
        },
        "id": "5IsUVNCU57dV",
        "outputId": "53248631-7f50-478b-af5f-9715255af40a"
      },
      "outputs": [
        {
          "data": {
            "text/plain": [
              "<matplotlib.axes._subplots.AxesSubplot at 0x7fd0c0fccad0>"
            ]
          },
          "execution_count": 116,
          "metadata": {},
          "output_type": "execute_result"
        },
        {
          "data": {
            "image/png": "[encoded data removed]",
            "text/plain": [
              "<Figure size 432x288 with 2 Axes>"
            ]
          },
          "metadata": {
            "needs_background": "light"
          },
          "output_type": "display_data"
        }
      ],
      "source": [
        "# Generating heatmap to see the corelation among the data\n",
        "sns.heatmap(data.corr())"
      ]
    },
    {
      "cell_type": "markdown",
      "metadata": {
        "id": "QT7QNx1L8Lep"
      },
      "source": [
        "How does ram is affected by price"
      ]
    },
    {
      "cell_type": "code",
      "execution_count": null,
      "metadata": {
        "colab": {
          "base_uri": "https://localhost:8080/",
          "height": 441
        },
        "id": "PzB8JcJV6x34",
        "outputId": "93f1b627-d491-4697-8e6e-e812c6ba5449"
      },
      "outputs": [
        {
          "data": {
            "image/png": "[encoded data removed]",
            "text/plain": [
              "<Figure size 432x432 with 3 Axes>"
            ]
          },
          "metadata": {
            "needs_background": "light"
          },
          "output_type": "display_data"
        }
      ],
      "source": [
        "sns.jointplot(x='ram',y='price_range',data=data,color='green',kind='kde');"
      ]
    },
    {
      "cell_type": "markdown",
      "metadata": {
        "id": "tij8sGAf9UzY"
      },
      "source": [
        "Phones which support 4g"
      ]
    },
    {
      "cell_type": "code",
      "execution_count": null,
      "metadata": {
        "colab": {
          "base_uri": "https://localhost:8080/",
          "height": 248
        },
        "id": "0cmoSQmm9Z0E",
        "outputId": "1af43737-2b1b-43d3-ac1b-27850862bda9"
      },
      "outputs": [
        {
          "data": {
            "image/png": "[encoded data removed]",
            "text/plain": [
              "<Figure size 432x288 with 1 Axes>"
            ]
          },
          "metadata": {},
          "output_type": "display_data"
        }
      ],
      "source": [
        "labels4g = [\"4G-supported\",'Not supported']\n",
        "values4g = data['four_g'].value_counts().values\n",
        "colors = ['#ff9999','#99ff99','#ffcc99']\n",
        "fig1, ax1 = plt.subplots()\n",
        "ax1.pie(values4g, labels=labels4g, autopct='%1.1f%%',colors=colors,shadow=True,startangle=90)\n",
        "plt.show()"
      ]
    },
    {
      "cell_type": "markdown",
      "metadata": {
        "id": "FgASRjFhC3ML"
      },
      "source": [
        "## **Trying Differnet Methods To Build A Model**"
      ]
    },
    {
      "cell_type": "markdown",
      "metadata": {
        "id": "HS5ZbBI4AEdq"
      },
      "source": [
        "Model Building\n",
        "\n",
        "\n",
        "*   Logistic Regression\n",
        "*   Support Vector Classification(SVM)\n",
        "*   Naive Bayes\n",
        "*   ID3 Decision Tree Classifier\n",
        "\n",
        "\n",
        "\n"
      ]
    },
    {
      "cell_type": "markdown",
      "metadata": {
        "id": "HKPScsyzAuXa"
      },
      "source": [
        "## **Logestic Regression**"
      ]
    },
    {
      "cell_type": "code",
      "execution_count": null,
      "metadata": {
        "id": "ZJAL_8IOAwnl"
      },
      "outputs": [],
      "source": [
        "# Creating & Training Logestic Regression Model\n",
        "\n",
        "features = data.loc[:,[\"battery_power\",\"int_memory\", \"ram\",\"sc_w\"]].values\n",
        "label = data.iloc[:,-1].values\n",
        "\n",
        "\n",
        "X_train, X_test, y_train, y_test= train_test_split(features,label, test_size= 0.25, random_state=167)\n",
        "\n",
        "classimodel= LogisticRegression(solver=\"liblinear\")  \n",
        "classimodel.fit(X_train, y_train)\n",
        "trainscore =  classimodel.score(X_train,y_train)\n",
        "testscore =  classimodel.score(X_test,y_test)  \n",
        "\n"
      ]
    },
    {
      "cell_type": "code",
      "execution_count": null,
      "metadata": {
        "colab": {
          "base_uri": "https://localhost:8080/"
        },
        "id": "eUQ8wOBMCZyc",
        "outputId": "76b5710b-f112-414c-b116-c9c455444f84"
      },
      "outputs": [
        {
          "name": "stdout",
          "output_type": "stream",
          "text": [
            "test score: 0.782 \n",
            "\n",
            " f1 score:  0.782 \n",
            "\n",
            "[[124   8   0   0]\n",
            " [ 10  75  24   0]\n",
            " [  0  23  54  42]\n",
            " [  0   0   2 138]]\n"
          ]
        }
      ],
      "source": [
        "print(\"test score: {}\".format(testscore),'\\n')\n",
        "y_predlogi =  classimodel.predict(X_test)\n",
        "print(' f1 score: ',f1_score(y_test, y_predlogi,average='micro'),'\\n')\n",
        "print(confusion_matrix(y_test, y_predlogi))"
      ]
    },
    {
      "cell_type": "code",
      "execution_count": null,
      "metadata": {
        "colab": {
          "base_uri": "https://localhost:8080/"
        },
        "id": "IBhStJ-RCUW6",
        "outputId": "e3daab59-dbea-4672-9483-063a96470ccf"
      },
      "outputs": [
        {
          "name": "stdout",
          "output_type": "stream",
          "text": [
            " precision score:  0.782 \n",
            "\n",
            " recall score:  0.782 \n",
            "\n",
            "              precision    recall  f1-score   support\n",
            "\n",
            "           0       0.93      0.94      0.93       132\n",
            "           1       0.71      0.69      0.70       109\n",
            "           2       0.68      0.45      0.54       119\n",
            "           3       0.77      0.99      0.86       140\n",
            "\n",
            "    accuracy                           0.78       500\n",
            "   macro avg       0.77      0.77      0.76       500\n",
            "weighted avg       0.77      0.78      0.77       500\n",
            "\n"
          ]
        }
      ],
      "source": [
        "print(' precision score: ',precision_score(y_test, y_predlogi,average='micro'),'\\n')\n",
        "print(' recall score: ',recall_score(y_test, y_predlogi,average='micro'),'\\n')\n",
        "print(classification_report(y_test, y_predlogi))"
      ]
    },
    {
      "cell_type": "markdown",
      "metadata": {
        "id": "niKNK3ifDXP-"
      },
      "source": [
        "## **Support Vector Classification(SVM)**"
      ]
    },
    {
      "cell_type": "code",
      "execution_count": null,
      "metadata": {
        "id": "7rI4Y0UBDfcT"
      },
      "outputs": [],
      "source": [
        "X_train, X_test, y_train, y_test= train_test_split(features,label, test_size= 0.25, random_state=39) "
      ]
    },
    {
      "cell_type": "code",
      "execution_count": null,
      "metadata": {
        "colab": {
          "base_uri": "https://localhost:8080/"
        },
        "id": "VdLh39sGDj-4",
        "outputId": "a5196708-872f-4987-d92c-54b634d6fbf0"
      },
      "outputs": [
        {
          "name": "stdout",
          "output_type": "stream",
          "text": [
            "test score: 0.864  \n",
            "\n"
          ]
        }
      ],
      "source": [
        "svcmodel = SVC(probability=True)  \n",
        "svcmodel.fit(X_train, y_train) \n",
        "\n",
        "trainscore =  svcmodel.score(X_train,y_train)\n",
        "testscore =  svcmodel.score(X_test,y_test)  \n",
        "\n",
        "print(\"test score: {} \".format(testscore),'\\n')"
      ]
    },
    {
      "cell_type": "code",
      "execution_count": null,
      "metadata": {
        "colab": {
          "base_uri": "https://localhost:8080/"
        },
        "id": "5URs6Z1tDmSK",
        "outputId": "efe8df4d-2aa6-4c8e-8f03-3b2864bb0d3e"
      },
      "outputs": [
        {
          "name": "stdout",
          "output_type": "stream",
          "text": [
            " f1 score:  0.864 \n",
            "\n",
            "[[133   6   0   0]\n",
            " [ 12  94   9   0]\n",
            " [  0  13  97  11]\n",
            " [  0   0  17 108]]\n"
          ]
        }
      ],
      "source": [
        "y_predsvc =  svcmodel.predict(X_test)\n",
        "print(' f1 score: ',f1_score(y_test, y_predsvc,average='micro'),'\\n')\n",
        "print(confusion_matrix(y_test, y_predsvc))"
      ]
    },
    {
      "cell_type": "code",
      "execution_count": null,
      "metadata": {
        "colab": {
          "base_uri": "https://localhost:8080/"
        },
        "id": "eUDslZDbDoKy",
        "outputId": "6b384640-a256-4986-f10e-1d6892579de3"
      },
      "outputs": [
        {
          "name": "stdout",
          "output_type": "stream",
          "text": [
            " precision score:  0.864 \n",
            "\n",
            " recall score:  0.864 \n",
            "\n",
            "              precision    recall  f1-score   support\n",
            "\n",
            "           0       0.92      0.96      0.94       139\n",
            "           1       0.83      0.82      0.82       115\n",
            "           2       0.79      0.80      0.80       121\n",
            "           3       0.91      0.86      0.89       125\n",
            "\n",
            "    accuracy                           0.86       500\n",
            "   macro avg       0.86      0.86      0.86       500\n",
            "weighted avg       0.86      0.86      0.86       500\n",
            "\n"
          ]
        }
      ],
      "source": [
        "print(' precision score: ',precision_score(y_test, y_predsvc,average='micro'),'\\n')\n",
        "print(' recall score: ',recall_score(y_test, y_predsvc,average='micro'),'\\n')\n",
        "print(classification_report(y_test, y_predsvc))"
      ]
    },
    {
      "cell_type": "markdown",
      "metadata": {
        "id": "y49Y2oe4D0_V"
      },
      "source": [
        "## **Navie Bayes**"
      ]
    },
    {
      "cell_type": "code",
      "execution_count": null,
      "metadata": {
        "id": "ICXFZxN8D7U9"
      },
      "outputs": [],
      "source": [
        "X_train, X_test, y_train, y_test= train_test_split(features,label, test_size= 0.25, random_state=120) "
      ]
    },
    {
      "cell_type": "code",
      "execution_count": null,
      "metadata": {
        "colab": {
          "base_uri": "https://localhost:8080/"
        },
        "id": "exzj3ZiUEAxc",
        "outputId": "255ed66d-275c-44b8-8d92-d8e3aa02217b"
      },
      "outputs": [
        {
          "data": {
            "text/plain": [
              "GaussianNB()"
            ]
          },
          "execution_count": 127,
          "metadata": {},
          "output_type": "execute_result"
        }
      ],
      "source": [
        "NBmodel = GaussianNB()  \n",
        "NBmodel.fit(X_train, y_train) \n"
      ]
    },
    {
      "cell_type": "code",
      "execution_count": null,
      "metadata": {
        "id": "3ChHjQACECp3"
      },
      "outputs": [],
      "source": [
        "trainscore =  NBmodel.score(X_train,y_train)\n",
        "testscore =  NBmodel.score(X_test,y_test)  "
      ]
    },
    {
      "cell_type": "code",
      "execution_count": null,
      "metadata": {
        "colab": {
          "base_uri": "https://localhost:8080/"
        },
        "id": "XJn0uKxCEEMd",
        "outputId": "7975ffc3-c778-416c-d05e-a55c67cdbfc6"
      },
      "outputs": [
        {
          "name": "stdout",
          "output_type": "stream",
          "text": [
            "test score: 0.818 train score: 0.7646666666666667 \n",
            "\n",
            " f1 score:  0.818 \n",
            "\n",
            "[[113  11   0   0]\n",
            " [ 16  82  18   0]\n",
            " [  0  16  90  18]\n",
            " [  0   0  12 124]]\n"
          ]
        }
      ],
      "source": [
        "print(\"test score: {} train score: {}\".format(testscore,trainscore),'\\n')\n",
        "y_predNB =  NBmodel.predict(X_test)\n",
        "print(' f1 score: ',f1_score(y_test, y_predNB,average='micro'),'\\n')\n",
        "print(confusion_matrix(y_test, y_predNB))"
      ]
    },
    {
      "cell_type": "code",
      "execution_count": null,
      "metadata": {
        "colab": {
          "base_uri": "https://localhost:8080/"
        },
        "id": "b4K87lH3EF4i",
        "outputId": "04d0f081-f1df-482c-927f-b23b6809e5d4"
      },
      "outputs": [
        {
          "name": "stdout",
          "output_type": "stream",
          "text": [
            " precision score:  0.818 \n",
            "\n",
            " recall score:  0.818 \n",
            "\n",
            "              precision    recall  f1-score   support\n",
            "\n",
            "           0       0.88      0.91      0.89       124\n",
            "           1       0.75      0.71      0.73       116\n",
            "           2       0.75      0.73      0.74       124\n",
            "           3       0.87      0.91      0.89       136\n",
            "\n",
            "    accuracy                           0.82       500\n",
            "   macro avg       0.81      0.81      0.81       500\n",
            "weighted avg       0.82      0.82      0.82       500\n",
            "\n"
          ]
        }
      ],
      "source": [
        "print(' precision score: ',precision_score(y_test, y_predNB,average='micro'),'\\n')\n",
        "print(' recall score: ',recall_score(y_test, y_predNB,average='micro'),'\\n')\n",
        "print(classification_report(y_test, y_predNB))"
      ]
    },
    {
      "cell_type": "markdown",
      "metadata": {
        "id": "kBP2rb-xGI6t"
      },
      "source": [
        "## **ID3 Decision Tree Classifier**"
      ]
    },
    {
      "cell_type": "code",
      "execution_count": null,
      "metadata": {
        "id": "nHLm6vJHGpFS"
      },
      "outputs": [],
      "source": [
        "X_train, X_test, y_train, y_test= train_test_split(features,label, test_size= 0.25, random_state=194)"
      ]
    },
    {
      "cell_type": "code",
      "execution_count": null,
      "metadata": {
        "colab": {
          "base_uri": "https://localhost:8080/"
        },
        "id": "3x1fIA53Gp02",
        "outputId": "097ca3e8-f8c0-4e32-be03-5beea08bd5d9"
      },
      "outputs": [
        {
          "data": {
            "text/plain": [
              "DecisionTreeClassifier(max_depth=4)"
            ]
          },
          "execution_count": 132,
          "metadata": {},
          "output_type": "execute_result"
        }
      ],
      "source": [
        "DTmodel=  DecisionTreeClassifier(max_depth=4)  \n",
        "DTmodel.fit(X_train, y_train)"
      ]
    },
    {
      "cell_type": "code",
      "execution_count": null,
      "metadata": {
        "colab": {
          "base_uri": "https://localhost:8080/"
        },
        "id": "jUXWW2DkGvT6",
        "outputId": "6fbcb778-58c7-4410-ef1b-7ddeeba1127c"
      },
      "outputs": [
        {
          "name": "stdout",
          "output_type": "stream",
          "text": [
            " f1 score:  0.834 \n",
            "\n",
            "[[121  11   0   0]\n",
            " [ 12 102  21   0]\n",
            " [  0  12  91  10]\n",
            " [  0   0  17 103]]\n"
          ]
        }
      ],
      "source": [
        "trainscore =  DTmodel.score(X_train,y_train)\n",
        "testscore =  DTmodel.score(X_test,y_test)\n",
        "y_predDT =  DTmodel.predict(X_test)\n",
        "print(' f1 score: ',f1_score(y_test, y_predDT,average='micro'),'\\n')\n",
        "print(confusion_matrix(y_test, y_predDT))"
      ]
    },
    {
      "cell_type": "code",
      "execution_count": null,
      "metadata": {
        "colab": {
          "base_uri": "https://localhost:8080/"
        },
        "id": "lQcfFyKYGxHJ",
        "outputId": "a91633b0-0808-40bf-8bac-c44a9924b973"
      },
      "outputs": [
        {
          "name": "stdout",
          "output_type": "stream",
          "text": [
            " precision score:  0.834 \n",
            "\n",
            " recall score:  0.834 \n",
            "\n",
            "              precision    recall  f1-score   support\n",
            "\n",
            "           0       0.91      0.92      0.91       132\n",
            "           1       0.82      0.76      0.78       135\n",
            "           2       0.71      0.81      0.75       113\n",
            "           3       0.91      0.86      0.88       120\n",
            "\n",
            "    accuracy                           0.83       500\n",
            "   macro avg       0.84      0.83      0.83       500\n",
            "weighted avg       0.84      0.83      0.84       500\n",
            "\n"
          ]
        }
      ],
      "source": [
        "print(' precision score: ',precision_score(y_test, y_predDT,average='micro'),'\\n')\n",
        "print(' recall score: ',recall_score(y_test, y_predDT,average='micro'),'\\n')\n",
        "print(classification_report(y_test, y_predDT))"
      ]
    },
    {
      "cell_type": "markdown",
      "metadata": {
        "id": "4b5_xOwRIIQk"
      },
      "source": [
        "## **Analyzing The AUC and Accuracy of different models**\n",
        "\n"
      ]
    },
    {
      "cell_type": "code",
      "execution_count": null,
      "metadata": {
        "colab": {
          "base_uri": "https://localhost:8080/"
        },
        "id": "faCop2D4IZKO",
        "outputId": "5aa827cb-dd3c-4b39-bfd2-056b4ee8c54e"
      },
      "outputs": [
        {
          "name": "stdout",
          "output_type": "stream",
          "text": [
            "Logestic Regression AUC 0.9366080000000001\n",
            "Support Vector Classification AUC  0.964942\n",
            "Naive Bayes AUC  0.9429046666666667\n",
            "ID3 AUC  0.9551051666666667\n"
          ]
        }
      ],
      "source": [
        "# Logestic Regression\n",
        "\n",
        "probabilityValues = classimodel.predict_proba(features)\n",
        "auc = roc_auc_score(label,probabilityValues,multi_class ='ovr')\n",
        "\n",
        "print(\"Logestic Regression AUC\",auc)\n",
        "\n",
        "# Support Vector Classification\n",
        "\n",
        "probabilityValues = svcmodel.predict_proba(features)\n",
        "auc = roc_auc_score(label,probabilityValues,multi_class ='ovr')\n",
        "\n",
        "print(\"Support Vector Classification AUC \",auc)\n",
        "# Naive Bayes\n",
        "\n",
        "probabilityValues = NBmodel.predict_proba(features)\n",
        "auc = roc_auc_score(label,probabilityValues,multi_class ='ovr')\n",
        "\n",
        "print(\"Naive Bayes AUC \",auc)\n",
        "\n",
        "# ID3 Decision Tree\n",
        "probabilityValues = DTmodel.predict_proba(features)\n",
        "auc = roc_auc_score(label,probabilityValues,multi_class ='ovr')\n",
        "print(\"ID3 AUC \",auc)\n"
      ]
    },
    {
      "cell_type": "markdown",
      "metadata": {
        "id": "fysDTo17Mbj3"
      },
      "source": [
        "## **Analyzing The Results**\n",
        "### **Logistic Regression**\n",
        "* Accuracy: 0.78\n",
        "* AUC: 0.9366080000000001\n",
        "### **Support Vector Classification(SVM)**\n",
        "* Accuracy: 0.86\n",
        "* AUC: 0.9649396666666666\n",
        "### **Naive Bayes**\n",
        "* Accuracy: 0.82\n",
        "* AUC: 0.9429046666666667\n",
        "### **ID3 Decision Tree Classifier**\n",
        "* Accuracy: 0.83       \n",
        "* AUC: 0.9551051666666667"
      ]
    },
    {
      "cell_type": "markdown",
      "metadata": {
        "id": "aeURl-zGQt7X"
      },
      "source": [
        "# Conclusion\n",
        "***I will choose Support Vector Machine algorithm for this test-dataset.***"
      ]
    },
    {
      "cell_type": "markdown",
      "metadata": {
        "id": "JTLcv6HVRMYr"
      },
      "source": [
        "# **Applying Algorithm To Test Data**"
      ]
    },
    {
      "cell_type": "code",
      "execution_count": null,
      "metadata": {
        "id": "7pZNdDj5RVkG"
      },
      "outputs": [],
      "source": [
        "# Loading The Dataset\n",
        "testdata = pd.read_csv('/content/gdrive/MyDrive/ML_Lab/Mobiletest.csv')"
      ]
    },
    {
      "cell_type": "code",
      "execution_count": null,
      "metadata": {
        "id": "HD5wlHzySCD4"
      },
      "outputs": [],
      "source": [
        "finaltestdata = testdata.loc[:,[\"battery_power\",\"int_memory\", \"ram\",\"sc_w\"]]"
      ]
    },
    {
      "cell_type": "code",
      "execution_count": null,
      "metadata": {
        "colab": {
          "base_uri": "https://localhost:8080/"
        },
        "id": "se-Z0SQXRgEB",
        "outputId": "b984432b-c8c5-4d46-a626-a62a4967115b"
      },
      "outputs": [
        {
          "name": "stderr",
          "output_type": "stream",
          "text": [
            "/usr/local/lib/python3.7/dist-packages/sklearn/base.py:439: UserWarning: X has feature names, but SVC was fitted without feature names\n",
            "  f\"X has feature names, but {self.__class__.__name__} was fitted without\"\n"
          ]
        }
      ],
      "source": [
        "predicted_price = svcmodel.predict(finaltestdata)"
      ]
    },
    {
      "cell_type": "code",
      "execution_count": null,
      "metadata": {
        "id": "y0zEANBrShP5"
      },
      "outputs": [],
      "source": [
        "testdata['price_range']=predicted_price"
      ]
    },
    {
      "cell_type": "code",
      "execution_count": null,
      "metadata": {
        "colab": {
          "base_uri": "https://localhost:8080/",
          "height": 223
        },
        "id": "0b3xZax7SjEo",
        "outputId": "86e79049-a44c-44a3-803b-2ee3fe9723ab"
      },
      "outputs": [
        {
          "data": {
            "text/html": [
              "<div>\n",
              "<style scoped>\n",
              "    .dataframe tbody tr th:only-of-type {\n",
              "        vertical-align: middle;\n",
              "    }\n",
              "\n",
              "    .dataframe tbody tr th {\n",
              "        vertical-align: top;\n",
              "    }\n",
              "\n",
              "    .dataframe thead th {\n",
              "        text-align: right;\n",
              "    }\n",
              "</style>\n",
              "<table border=\"1\" class=\"dataframe\">\n",
              "  <thead>\n",
              "    <tr style=\"text-align: right;\">\n",
              "      <th></th>\n",
              "      <th>id</th>\n",
              "      <th>battery_power</th>\n",
              "      <th>blue</th>\n",
              "      <th>clock_speed</th>\n",
              "      <th>dual_sim</th>\n",
              "      <th>fc</th>\n",
              "      <th>four_g</th>\n",
              "      <th>int_memory</th>\n",
              "      <th>m_dep</th>\n",
              "      <th>mobile_wt</th>\n",
              "      <th>n_cores</th>\n",
              "      <th>pc</th>\n",
              "      <th>px_height</th>\n",
              "      <th>px_width</th>\n",
              "      <th>ram</th>\n",
              "      <th>sc_h</th>\n",
              "      <th>sc_w</th>\n",
              "      <th>talk_time</th>\n",
              "      <th>three_g</th>\n",
              "      <th>touch_screen</th>\n",
              "      <th>wifi</th>\n",
              "      <th>price_range</th>\n",
              "    </tr>\n",
              "  </thead>\n",
              "  <tbody>\n",
              "    <tr>\n",
              "      <th>0</th>\n",
              "      <td>1</td>\n",
              "      <td>1043</td>\n",
              "      <td>1</td>\n",
              "      <td>1.8</td>\n",
              "      <td>1</td>\n",
              "      <td>14</td>\n",
              "      <td>0</td>\n",
              "      <td>5</td>\n",
              "      <td>0.1</td>\n",
              "      <td>193</td>\n",
              "      <td>3</td>\n",
              "      <td>16</td>\n",
              "      <td>226</td>\n",
              "      <td>1412</td>\n",
              "      <td>3476</td>\n",
              "      <td>12</td>\n",
              "      <td>7</td>\n",
              "      <td>2</td>\n",
              "      <td>0</td>\n",
              "      <td>1</td>\n",
              "      <td>0</td>\n",
              "      <td>3</td>\n",
              "    </tr>\n",
              "    <tr>\n",
              "      <th>1</th>\n",
              "      <td>2</td>\n",
              "      <td>841</td>\n",
              "      <td>1</td>\n",
              "      <td>0.5</td>\n",
              "      <td>1</td>\n",
              "      <td>4</td>\n",
              "      <td>1</td>\n",
              "      <td>61</td>\n",
              "      <td>0.8</td>\n",
              "      <td>191</td>\n",
              "      <td>5</td>\n",
              "      <td>12</td>\n",
              "      <td>746</td>\n",
              "      <td>857</td>\n",
              "      <td>3895</td>\n",
              "      <td>6</td>\n",
              "      <td>0</td>\n",
              "      <td>7</td>\n",
              "      <td>1</td>\n",
              "      <td>0</td>\n",
              "      <td>0</td>\n",
              "      <td>3</td>\n",
              "    </tr>\n",
              "    <tr>\n",
              "      <th>2</th>\n",
              "      <td>3</td>\n",
              "      <td>1807</td>\n",
              "      <td>1</td>\n",
              "      <td>2.8</td>\n",
              "      <td>0</td>\n",
              "      <td>1</td>\n",
              "      <td>0</td>\n",
              "      <td>27</td>\n",
              "      <td>0.9</td>\n",
              "      <td>186</td>\n",
              "      <td>3</td>\n",
              "      <td>4</td>\n",
              "      <td>1270</td>\n",
              "      <td>1366</td>\n",
              "      <td>2396</td>\n",
              "      <td>17</td>\n",
              "      <td>10</td>\n",
              "      <td>10</td>\n",
              "      <td>0</td>\n",
              "      <td>1</td>\n",
              "      <td>1</td>\n",
              "      <td>2</td>\n",
              "    </tr>\n",
              "    <tr>\n",
              "      <th>3</th>\n",
              "      <td>4</td>\n",
              "      <td>1546</td>\n",
              "      <td>0</td>\n",
              "      <td>0.5</td>\n",
              "      <td>1</td>\n",
              "      <td>18</td>\n",
              "      <td>1</td>\n",
              "      <td>25</td>\n",
              "      <td>0.5</td>\n",
              "      <td>96</td>\n",
              "      <td>8</td>\n",
              "      <td>20</td>\n",
              "      <td>295</td>\n",
              "      <td>1752</td>\n",
              "      <td>3893</td>\n",
              "      <td>10</td>\n",
              "      <td>0</td>\n",
              "      <td>7</td>\n",
              "      <td>1</td>\n",
              "      <td>1</td>\n",
              "      <td>0</td>\n",
              "      <td>3</td>\n",
              "    </tr>\n",
              "    <tr>\n",
              "      <th>4</th>\n",
              "      <td>5</td>\n",
              "      <td>1434</td>\n",
              "      <td>0</td>\n",
              "      <td>1.4</td>\n",
              "      <td>0</td>\n",
              "      <td>11</td>\n",
              "      <td>1</td>\n",
              "      <td>49</td>\n",
              "      <td>0.5</td>\n",
              "      <td>108</td>\n",
              "      <td>6</td>\n",
              "      <td>18</td>\n",
              "      <td>749</td>\n",
              "      <td>810</td>\n",
              "      <td>1773</td>\n",
              "      <td>15</td>\n",
              "      <td>8</td>\n",
              "      <td>7</td>\n",
              "      <td>1</td>\n",
              "      <td>0</td>\n",
              "      <td>1</td>\n",
              "      <td>1</td>\n",
              "    </tr>\n",
              "  </tbody>\n",
              "</table>\n",
              "</div>"
            ],
            "text/plain": [
              "   id  battery_power  blue  ...  touch_screen  wifi  price_range\n",
              "0   1           1043     1  ...             1     0            3\n",
              "1   2            841     1  ...             0     0            3\n",
              "2   3           1807     1  ...             1     1            2\n",
              "3   4           1546     0  ...             1     0            3\n",
              "4   5           1434     0  ...             0     1            1\n",
              "\n",
              "[5 rows x 22 columns]"
            ]
          },
          "execution_count": 140,
          "metadata": {},
          "output_type": "execute_result"
        }
      ],
      "source": [
        "testdata.head()"
      ]
    }
  ],
  "metadata": {
    "colab": {
      "collapsed_sections": [
        "BsYSQ1i018RG",
        "Mm8dTOO17vwL",
        "y49Y2oe4D0_V",
        "kBP2rb-xGI6t"
      ],
      "name": "19BCN7122_Mini_Project.ipynb",
      "provenance": []
    },
    "kernelspec": {
      "display_name": "Python 3",
      "name": "python3"
    },
    "language_info": {
      "name": "python"
    }
  },
  "nbformat": 4,
  "nbformat_minor": 0
}
